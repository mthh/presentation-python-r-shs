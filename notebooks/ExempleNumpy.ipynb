{
 "cells": [
  {
   "cell_type": "markdown",
   "id": "99afde69",
   "metadata": {},
   "source": [
    "## Exemple NumPy"
   ]
  },
  {
   "cell_type": "code",
   "execution_count": 1,
   "id": "8a4137b5",
   "metadata": {},
   "outputs": [],
   "source": [
    "import numpy as np"
   ]
  },
  {
   "cell_type": "code",
   "execution_count": 2,
   "id": "f808b633",
   "metadata": {},
   "outputs": [],
   "source": [
    "arr = np.array([\n",
    "    [12.1, -23.9],\n",
    "    [3.91, -20.1],\n",
    "    [2.12, -7.93],\n",
    "])"
   ]
  },
  {
   "cell_type": "markdown",
   "id": "eb62662d",
   "metadata": {},
   "source": [
    "### Connaitre la taille du tableau"
   ]
  },
  {
   "cell_type": "code",
   "execution_count": 3,
   "id": "04811113",
   "metadata": {},
   "outputs": [
    {
     "data": {
      "text/plain": [
       "6"
      ]
     },
     "execution_count": 3,
     "metadata": {},
     "output_type": "execute_result"
    }
   ],
   "source": [
    "arr.size # Nombre d'éléments"
   ]
  },
  {
   "cell_type": "code",
   "execution_count": 4,
   "id": "55c8651d",
   "metadata": {},
   "outputs": [
    {
     "data": {
      "text/plain": [
       "(3, 2)"
      ]
     },
     "execution_count": 4,
     "metadata": {},
     "output_type": "execute_result"
    }
   ],
   "source": [
    "arr.shape # Dimensions : (3 lignes, 2 colonnes)"
   ]
  },
  {
   "cell_type": "markdown",
   "id": "e55ace84",
   "metadata": {},
   "source": [
    "### Appliquer une opération à l'ensemble du tableau"
   ]
  },
  {
   "cell_type": "code",
   "execution_count": 5,
   "id": "2ef03888",
   "metadata": {},
   "outputs": [
    {
     "data": {
      "text/plain": [
       "array([[ 36.3 , -71.7 ],\n",
       "       [ 11.73, -60.3 ],\n",
       "       [  6.36, -23.79]])"
      ]
     },
     "execution_count": 5,
     "metadata": {},
     "output_type": "execute_result"
    }
   ],
   "source": [
    "arr2 = arr * 3\n",
    "arr2"
   ]
  },
  {
   "cell_type": "markdown",
   "id": "cd84cfdb",
   "metadata": {},
   "source": [
    "### Transposé"
   ]
  },
  {
   "cell_type": "code",
   "execution_count": 6,
   "id": "4366fb4c",
   "metadata": {},
   "outputs": [
    {
     "data": {
      "text/plain": [
       "array([[ 12.1 ,   3.91,   2.12],\n",
       "       [-23.9 , -20.1 ,  -7.93]])"
      ]
     },
     "execution_count": 6,
     "metadata": {},
     "output_type": "execute_result"
    }
   ],
   "source": [
    "arr.T"
   ]
  },
  {
   "cell_type": "markdown",
   "id": "1be9fa09",
   "metadata": {},
   "source": [
    "ou aussi"
   ]
  },
  {
   "cell_type": "markdown",
   "id": "4a1c0310",
   "metadata": {},
   "source": [
    "### Produit terme à terme :"
   ]
  },
  {
   "cell_type": "code",
   "execution_count": 7,
   "id": "decf4d6c",
   "metadata": {},
   "outputs": [
    {
     "data": {
      "text/plain": [
       "array([[ 439.23  , 1713.63  ],\n",
       "       [  45.8643, 1212.03  ],\n",
       "       [  13.4832,  188.6547]])"
      ]
     },
     "execution_count": 7,
     "metadata": {},
     "output_type": "execute_result"
    }
   ],
   "source": [
    "arr * arr2"
   ]
  },
  {
   "cell_type": "markdown",
   "id": "b5716f2b",
   "metadata": {},
   "source": [
    "### Produit matriciel"
   ]
  },
  {
   "cell_type": "code",
   "execution_count": 8,
   "id": "4896d442",
   "metadata": {},
   "outputs": [
    {
     "data": {
      "text/plain": [
       "array([[2152.86  , 1583.103 ,  645.537 ],\n",
       "       [1583.103 , 1257.8943,  503.0466],\n",
       "       [ 645.537 ,  503.0466,  202.1379]])"
      ]
     },
     "execution_count": 8,
     "metadata": {},
     "output_type": "execute_result"
    }
   ],
   "source": [
    "arr.dot(arr2.T)"
   ]
  },
  {
   "cell_type": "markdown",
   "id": "1101500c",
   "metadata": {},
   "source": [
    "ou aussi"
   ]
  },
  {
   "cell_type": "code",
   "execution_count": 9,
   "id": "8012933e",
   "metadata": {},
   "outputs": [
    {
     "data": {
      "text/plain": [
       "array([[2152.86  , 1583.103 ,  645.537 ],\n",
       "       [1583.103 , 1257.8943,  503.0466],\n",
       "       [ 645.537 ,  503.0466,  202.1379]])"
      ]
     },
     "execution_count": 9,
     "metadata": {},
     "output_type": "execute_result"
    }
   ],
   "source": [
    "arr @ arr2.T"
   ]
  },
  {
   "cell_type": "markdown",
   "id": "92904bf0",
   "metadata": {},
   "source": [
    "### Accéder à une valeur"
   ]
  },
  {
   "cell_type": "code",
   "execution_count": 10,
   "id": "12900dbe",
   "metadata": {},
   "outputs": [
    {
     "data": {
      "text/plain": [
       "-20.1"
      ]
     },
     "execution_count": 10,
     "metadata": {},
     "output_type": "execute_result"
    }
   ],
   "source": [
    "arr[1, 1]"
   ]
  },
  {
   "cell_type": "markdown",
   "id": "711cf038",
   "metadata": {},
   "source": [
    "### Découpage *(slicing)*"
   ]
  },
  {
   "cell_type": "code",
   "execution_count": 11,
   "id": "fa34fec0",
   "metadata": {},
   "outputs": [
    {
     "data": {
      "text/plain": [
       "array([-23.9, -20.1])"
      ]
     },
     "execution_count": 11,
     "metadata": {},
     "output_type": "execute_result"
    }
   ],
   "source": [
    "# Les valeurs de la 2ème colonne (indice 1),\n",
    "# sur les deux premières lignes (de l'indice 0 à l 'indice 2, exclu)\n",
    "arr[0:2, 1]"
   ]
  },
  {
   "cell_type": "markdown",
   "id": "7378bd44",
   "metadata": {},
   "source": [
    "### Sélection d'éléments"
   ]
  },
  {
   "cell_type": "code",
   "execution_count": 12,
   "id": "e18ab7f8",
   "metadata": {},
   "outputs": [
    {
     "data": {
      "text/plain": [
       "array([12.1 ,  3.91,  2.12])"
      ]
     },
     "execution_count": 12,
     "metadata": {},
     "output_type": "execute_result"
    }
   ],
   "source": [
    "arr[arr > 0]"
   ]
  },
  {
   "cell_type": "markdown",
   "id": "96681320",
   "metadata": {},
   "source": [
    "### Modification de la forme du tableau"
   ]
  },
  {
   "cell_type": "code",
   "execution_count": 13,
   "id": "431ca115",
   "metadata": {},
   "outputs": [
    {
     "data": {
      "text/plain": [
       "array([[ 12.1 ],\n",
       "       [-23.9 ],\n",
       "       [  3.91],\n",
       "       [-20.1 ],\n",
       "       [  2.12],\n",
       "       [ -7.93]])"
      ]
     },
     "execution_count": 13,
     "metadata": {},
     "output_type": "execute_result"
    }
   ],
   "source": [
    "arr.reshape(6, 1)"
   ]
  },
  {
   "cell_type": "code",
   "execution_count": 14,
   "id": "0f117831",
   "metadata": {},
   "outputs": [
    {
     "data": {
      "text/plain": [
       "array([[ 12.1 , -23.9 ,   3.91, -20.1 ,   2.12,  -7.93]])"
      ]
     },
     "execution_count": 14,
     "metadata": {},
     "output_type": "execute_result"
    }
   ],
   "source": [
    "arr.reshape(1, 6)"
   ]
  },
  {
   "cell_type": "markdown",
   "id": "5b846c02",
   "metadata": {},
   "source": [
    "### Modifier une partie du tableau"
   ]
  },
  {
   "cell_type": "code",
   "execution_count": 15,
   "id": "ce917908",
   "metadata": {},
   "outputs": [
    {
     "data": {
      "text/plain": [
       "array([[12.1       , -7.96666667],\n",
       "       [ 3.91      , -6.7       ],\n",
       "       [ 2.12      , -2.64333333]])"
      ]
     },
     "execution_count": 15,
     "metadata": {},
     "output_type": "execute_result"
    }
   ],
   "source": [
    "# Division (inplace) de tous les éléments de la\n",
    "# deuxième colonne (indice 1) par 3\n",
    "arr[:,1] /= 3\n",
    "arr"
   ]
  },
  {
   "cell_type": "markdown",
   "id": "bd017fce",
   "metadata": {},
   "source": [
    "### Création de tableaux \"spécifiques\""
   ]
  },
  {
   "cell_type": "code",
   "execution_count": 16,
   "id": "3e436182",
   "metadata": {},
   "outputs": [
    {
     "data": {
      "text/plain": [
       "array([[0., 0., 0.],\n",
       "       [0., 0., 0.],\n",
       "       [0., 0., 0.],\n",
       "       [0., 0., 0.],\n",
       "       [0., 0., 0.]])"
      ]
     },
     "execution_count": 16,
     "metadata": {},
     "output_type": "execute_result"
    }
   ],
   "source": [
    "# Un tableau de \"zéros\"\n",
    "np.zeros((5, 3))"
   ]
  },
  {
   "cell_type": "code",
   "execution_count": 17,
   "id": "e4449b41",
   "metadata": {},
   "outputs": [
    {
     "data": {
      "text/plain": [
       "array([[1., 1., 1., 1.],\n",
       "       [1., 1., 1., 1.],\n",
       "       [1., 1., 1., 1.]])"
      ]
     },
     "execution_count": 17,
     "metadata": {},
     "output_type": "execute_result"
    }
   ],
   "source": [
    "# Un tableau de \"uns\"\n",
    "np.ones((3, 4))"
   ]
  },
  {
   "cell_type": "code",
   "execution_count": 18,
   "id": "b9074cff",
   "metadata": {},
   "outputs": [
    {
     "data": {
      "text/plain": [
       "array([1. , 1.6, 2.2, 2.8, 3.4, 4. ])"
      ]
     },
     "execution_count": 18,
     "metadata": {},
     "output_type": "execute_result"
    }
   ],
   "source": [
    "# Éléments régulièrement espacés\n",
    "np.linspace(1., 4., 6) # Premier, dernier, nombre d'éléments"
   ]
  },
  {
   "cell_type": "code",
   "execution_count": 19,
   "id": "b39c5930",
   "metadata": {},
   "outputs": [
    {
     "data": {
      "text/plain": [
       "array([0.63207267, 0.25334413, 0.62003443, 0.03595847, 0.53132963,\n",
       "       0.98929467, 0.55196562, 0.6271361 , 0.78922376, 0.85986802,\n",
       "       0.55022017, 0.34820391, 0.87325921, 0.88120906, 0.0928646 ,\n",
       "       0.03215813, 0.76018001, 0.56725939, 0.26273091, 0.73608724,\n",
       "       0.65014426, 0.97053762, 0.21067506, 0.19392623, 0.85192539,\n",
       "       0.84305554, 0.31528744, 0.79967469, 0.20578471, 0.705804  ,\n",
       "       0.77886568, 0.21494412, 0.57540145, 0.4377488 , 0.0106107 ,\n",
       "       0.08490238, 0.93815511, 0.64729312, 0.10871478, 0.2365647 ,\n",
       "       0.02423401, 0.32673054, 0.61410024, 0.30952019, 0.81085005,\n",
       "       0.93957738, 0.81768011, 0.93074419, 0.03303403, 0.55730521,\n",
       "       0.03419084, 0.0299661 , 0.68506768, 0.04243119, 0.96528473,\n",
       "       0.80502653, 0.45657009, 0.84375038, 0.11043918, 0.4457668 ,\n",
       "       0.93362206, 0.5987174 , 0.03524744, 0.65094551, 0.70152016,\n",
       "       0.56085846, 0.32847674, 0.56248707, 0.86226929, 0.86645534,\n",
       "       0.34363201, 0.63157005, 0.85027666, 0.67482198, 0.58839083,\n",
       "       0.62920844, 0.70104599, 0.14273936, 0.27463275, 0.52787363,\n",
       "       0.04550776, 0.76649426, 0.42965392, 0.43599553, 0.7679043 ,\n",
       "       0.10330457, 0.82464557, 0.85733916, 0.95532237, 0.56893847,\n",
       "       0.98937443, 0.46658664, 0.27754862, 0.24940971, 0.84281207,\n",
       "       0.68464254, 0.97639498, 0.70109829, 0.42213889, 0.65796999])"
      ]
     },
     "execution_count": 19,
     "metadata": {},
     "output_type": "execute_result"
    }
   ],
   "source": [
    "# 100 valeurs entre 0 et 1\n",
    "np.random.uniform(0, 1, 100) "
   ]
  },
  {
   "cell_type": "code",
   "execution_count": null,
   "id": "02c59728",
   "metadata": {},
   "outputs": [],
   "source": []
  },
  {
   "cell_type": "code",
   "execution_count": null,
   "id": "775d775c",
   "metadata": {},
   "outputs": [],
   "source": []
  }
 ],
 "metadata": {
  "kernelspec": {
   "display_name": "Python 3 (ipykernel)",
   "language": "python",
   "name": "python3"
  },
  "language_info": {
   "codemirror_mode": {
    "name": "ipython",
    "version": 3
   },
   "file_extension": ".py",
   "mimetype": "text/x-python",
   "name": "python",
   "nbconvert_exporter": "python",
   "pygments_lexer": "ipython3",
   "version": "3.10.6"
  }
 },
 "nbformat": 4,
 "nbformat_minor": 5
}
