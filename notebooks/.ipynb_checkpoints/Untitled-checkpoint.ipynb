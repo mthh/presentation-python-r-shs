{
 "cells": [
  {
   "cell_type": "code",
   "execution_count": 13,
   "id": "ba25d006",
   "metadata": {},
   "outputs": [],
   "source": [
    "import time\n",
    "import requests\n",
    "import datetime\n",
    "import encodings\n",
    "import requests\n",
    "from bs4 import BeautifulSoup\n",
    "import re\n",
    "import pandas as pd\n",
    "\n",
    "aujourdhui =  datetime.date.today()\n",
    "aujourdhui = str(aujourdhui)\n",
    "\n",
    "data = []\n",
    "\n",
    "def est_voiture(href):\n",
    "    return href and re.compile(\"/voitures\").search(href)\n",
    "\n",
    "cookies = {\"__Secure-Install\":\"882293f9-61ee-4e07-962d-055477bdbe79\",\"__Secure-InstanceId\":\"882293f9-61ee-4e07-962d-055477bdbe79\",\"utag_main\":\"v_id:0188168d28aa0013b1a5506fa1b004065006c05d00b78$_sn:1$_ss:0$_pn:2%3Bexp-session$_st:1684007330557$ses_id:1684005529770%3Bexp-session\",\"didomi_token\":\"eyJ1c2VyX2lkIjoiMTg4MTY4ZDItOTk4MC02NTAyLWE0OWQtMTY0OThmNmExMjU3IiwiY3JlYXRlZCI6IjIwMjMtMDUtMTNUMTk6MTg6NTQuMTA5WiIsInVwZGF0ZWQiOiIyMDIzLTA1LTEzVDE5OjE4OjU0LjEwOVoiLCJ2ZW5kb3JzIjp7ImVuYWJsZWQiOlsiZ29vZ2xlIiwiYzpsYmNmcmFuY2UiLCJjOnJldmxpZnRlci1jUnBNbnA1eCIsImM6ZGlkb21pIl19LCJwdXJwb3NlcyI6eyJlbmFibGVkIjpbImV4cGVyaWVuY2V1dGlsaXNhdGV1ciIsIm1lc3VyZWF1ZGllbmNlIiwicGVyc29ubmFsaXNhdGlvbm1hcmtldGluZyIsInByaXgiXX0sInZlbmRvcnNfbGkiOnsiZW5hYmxlZCI6WyJnb29nbGUiXX0sInZlcnNpb24iOjIsImFjIjoiRExXQkFBRUlBSXdBV1FCLWdHRkFQeUFra0JKWUVBd0lrZ1NrQXR5QnhBRHB3SFZnUU1BaW9CSE9DU2NFdFlLREFVSWdvdEJYT0N3VUZ0NExqQVhMQXdHQmhFREUwR1dvLkRMV0JBQUVJQUl3QVdRQi1nR0ZBUHlBa2tCSllFQXdJa2dTa0F0eUJ4QURwd0hWZ1FNQWlvQkhPQ1NjRXRZS0RBVUlnb3RCWE9Dd1VGdDRMakFYTEF3R0JoRURFMEdXbyJ9\",\"euconsent-v2\":\"CPrtD4APrtD4AAHABBENDDCgAPLAAH7AAAAAIzNB_G_dTyPi-f59YvtwYQ1P4VQnoyACjgaNgwwJiRLBMI0EhmAIKAHqAAACIBAkICJAAQBlCAHAAAAA4IEAASMMAAAAIRAIIgCAAEAAAmJICABZCxAAAQAQgkwAABUAgAICABsgSDAAAAAAFAAAAAgAAAAAAAAAAAAAQAAAAAAAAgAAAAAAAAAAAAAEABBAEAEw1biABsSxwJpAwiAAAjCAIAoAQAUUAQsEABASIABBGAAowAAAABQAAAAAAABATAAAAAIAEIAAAAHBAIACABAAAABAIBAAAAAAgAAAQAAAAAADAAAAAAIACAAACAEAAAQAIACQIAAgAAAIAAAAAAAAAIBAAAAAAAAAAAAAAAAEAMUABgACCWowADAAEEtSAAGAAIJagAAA.flgAD9gAAAAA\",\"datadome\":\"2o0ku9Ec5aQGPXI74ikkQWLlB~WftvMxA-w-nYAJK~GBfFh1ThUqgzfKM2DFLYixakvCFOJExYT7sEBtKS9e5xE6F85dR6axk1p5WoKbVva5bYBdSOGdhZYOgoV7eX2p\"}\n",
    "header = {\n",
    "    'User-Agent': 'Mozilla/5.0 (Windows NT 10.0; Win64; x64; rv:81.0) Gecko/20100101 Firefox/81.0',\n",
    "    'referer': 'https://www.leboncoin.fr/'\n",
    "}\n",
    "\n",
    "tabPagesVoitures = []\n",
    "r = requests.get(\n",
    "    \"https://www.leboncoin.fr/recherche?category=2&locations=Grenoble__45.182955032162376_5.7292944732718905_6247\",\n",
    "    headers=header,\n",
    "    cookies=cookies,\n",
    ")\n",
    "\n",
    "soup = BeautifulSoup(r.content)\n",
    "### récupère tout les <a> contenu \"/voitures\" dans le \"href\"\n",
    "liensVoitures = soup.find_all(href=est_voiture)\n",
    "##\n",
    "##\n",
    "### on parse toutes les pages en liens et insère leur contenu dans le tableau tabPagesVoitures\n",
    "for liens in liensVoitures:\n",
    "    r = requests.get('https://www.leboncoin.fr' + liens.attrs[\"href\"],headers=header)\n",
    "    tabPagesVoitures.append(r)\n",
    "    print(liens.attrs[\"href\"])\n",
    "    time.sleep(7)\n",
    "###########################################################################################\n",
    "\n",
    "longueurTabPagesVoitures = len(tabPagesVoitures)\n",
    "for i in range(longueurTabPagesVoitures-1):\n",
    "#r = requests.get('https://www.leboncoin.fr/voitures/1846216367.htm',headers=header)\n",
    "#r.cookies\n",
    "    soup = BeautifulSoup(tabPagesVoitures[i].content,'lxml',from_encoding='utf-8')\n",
    "    ### récupère tout les <a> contenu \"/voitures\" dans le \"href\"\n",
    "    zoneMarque = soup.findAll(\"p\",string=\"Marque\")\n",
    "    itemMarque = str(zoneMarque[0].contents[0].next.contents[0]) #OK\n",
    "\n",
    "    zoneModele = soup.findAll(\"p\",string=\"Modèle\")\n",
    "    itemModele = str(zoneModele[0].contents[0].next.contents[0]) #OK\n",
    "\n",
    "    zoneAnneeModele = soup.findAll(\"p\",string=\"Année-modèle\")\n",
    "    itemAnneeModele  = str(zoneAnneeModele[0].contents[0].next.contents[0]) #OK\n",
    "\n",
    "    zoneKilometrage = soup.findAll(\"p\",string=\"Kilométrage\")\n",
    "    if zoneKilometrage != '':\n",
    "        itemKilometrage  = str(zoneKilometrage[0].contents[0].next.contents[0]) #OK\n",
    "        itemKilometrage = itemKilometrage.replace('km','')\n",
    "        itemKilometrage = itemKilometrage.replace(' ','')\n",
    "    else :\n",
    "        itemKilometrage = 'non renseigné'\n",
    "\n",
    "    zoneCarburant = soup.findAll(\"p\",string=\"Carburant\")\n",
    "    itemCarburant  = str(zoneCarburant[0].contents[0].next.contents[0]) #OK\n",
    "\n",
    "    #zoneBoiteVitesse = soup.findAll(\"p\",string=\"Boîte de vitesse\")\n",
    "    #itemBoiteVitesse  = str(zoneBoiteVitesse[0].contents[0].next.contents[0]) #OK\n",
    "    zonePrix = soup.findAll(class_=re.compile(\"price\"))\n",
    "    itemPrix  = str(zonePrix[0].next.next.contents[0].contents[0])\n",
    "    itemPrix = itemPrix.replace(' ','')\n",
    "\n",
    "    data.append([itemMarque, itemModele, itemAnneeModele, itemKilometrage, itemCarburant, itemPrix])\n",
    "\n"
   ]
  },
  {
   "cell_type": "code",
   "execution_count": 14,
   "id": "2ca3ee38",
   "metadata": {},
   "outputs": [
    {
     "data": {
      "text/plain": [
       "[]"
      ]
     },
     "execution_count": 14,
     "metadata": {},
     "output_type": "execute_result"
    }
   ],
   "source": [
    "data"
   ]
  },
  {
   "cell_type": "code",
   "execution_count": 15,
   "id": "4e810ed0",
   "metadata": {},
   "outputs": [
    {
     "data": {
      "text/plain": [
       "b'<html><head><title>leboncoin.fr</title><meta property=\"og:title\" content=\"Rendez-vous sur leboncoin pour d\\xc3\\xa9couvrir cette annonce !\" />\\r\\n<meta property=\"og:image\" content=\"https://img.datadome.co/captcha/page-customization/1872/866d27bc-26b6-476e-b41d-496f3e0a7fb4.jpeg\" /><style>#cmsg{animation: A 1.5s;}@keyframes A{0%{opacity:0;}99%{opacity:0;}100%{opacity:1;}}</style></head><body style=\"margin:0\"><p id=\"cmsg\">Please enable JS and disable any ad blocker</p><script data-cfasync=\"false\">var dd={\\'rt\\':\\'c\\',\\'cid\\':\\'AHrlqAAAAAMA2y9kbUlidz4A1MM3-A==\\',\\'hsh\\':\\'05B30BD9055986BD2EE8F5A199D973\\',\\'t\\':\\'bv\\',\\'s\\':2089,\\'e\\':\\'c32ddcbcefa6e1ebac2aa6b419fb32022787bd5e96c531dc4882463bfbb1e7b4\\',\\'host\\':\\'geo.captcha-delivery.com\\'}</script><script data-cfasync=\"false\" src=\"https://ct.captcha-delivery.com/c.js\"></script></body></html>\\n'"
      ]
     },
     "execution_count": 15,
     "metadata": {},
     "output_type": "execute_result"
    }
   ],
   "source": [
    "r.content"
   ]
  },
  {
   "cell_type": "code",
   "execution_count": null,
   "id": "1686d62c",
   "metadata": {},
   "outputs": [],
   "source": []
  }
 ],
 "metadata": {
  "kernelspec": {
   "display_name": "Python 3 (ipykernel)",
   "language": "python",
   "name": "python3"
  },
  "language_info": {
   "codemirror_mode": {
    "name": "ipython",
    "version": 3
   },
   "file_extension": ".py",
   "mimetype": "text/x-python",
   "name": "python",
   "nbconvert_exporter": "python",
   "pygments_lexer": "ipython3",
   "version": "3.10.6"
  }
 },
 "nbformat": 4,
 "nbformat_minor": 5
}
